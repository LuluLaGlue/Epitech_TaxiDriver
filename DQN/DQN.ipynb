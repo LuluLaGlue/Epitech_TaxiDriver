{
 "cells": [
  {
   "cell_type": "markdown",
   "metadata": {},
   "source": [
    "# Deep Q Learning"
   ]
  },
  {
   "cell_type": "code",
   "execution_count": null,
   "metadata": {},
   "outputs": [],
   "source": [
    "from DQN_Train import TrainingAgent\n",
    "import gym"
   ]
  },
  {
   "cell_type": "markdown",
   "metadata": {},
   "source": [
    "## Reference Architecture 1"
   ]
  },
  {
   "cell_type": "code",
   "execution_count": null,
   "metadata": {},
   "outputs": [],
   "source": [
    "env = gym.make(\"Taxi-v3\").env\n",
    "env.seed(42)\n",
    "agent = TrainingAgent(env=env, name=\"notebook_reference\", save=False)\n",
    "agent.compile()\n",
    "agent.fit()"
   ]
  },
  {
   "cell_type": "markdown",
   "metadata": {},
   "source": [
    "## Constant Learning Rate"
   ]
  },
  {
   "cell_type": "code",
   "execution_count": null,
   "metadata": {},
   "outputs": [],
   "source": [
    "env = gym.make(\"Taxi-v3\").env\n",
    "env.seed(42)\n",
    "agent = TrainingAgent(env=env,\n",
    "                      lr_min=0.001,\n",
    "                      name=\"notebook_lr_const\",\n",
    "                      save=False)\n",
    "agent.compile()\n",
    "agent.fit()"
   ]
  },
  {
   "cell_type": "markdown",
   "metadata": {},
   "source": [
    "## High Learning Rate"
   ]
  },
  {
   "cell_type": "code",
   "execution_count": null,
   "metadata": {},
   "outputs": [],
   "source": [
    "env = gym.make(\"Taxi-v3\").env\n",
    "env.seed(42)\n",
    "agent = TrainingAgent(env=env,\n",
    "                      lr=0.01,\n",
    "                      lr_min=0.01,\n",
    "                      name=\"notebook_lr_high\",\n",
    "                      save=False)\n",
    "agent.compile()\n",
    "agent.fit()"
   ]
  },
  {
   "cell_type": "markdown",
   "metadata": {},
   "source": [
    "## Low Learning Rate"
   ]
  },
  {
   "cell_type": "code",
   "execution_count": null,
   "metadata": {},
   "outputs": [],
   "source": [
    "env = gym.make(\"Taxi-v3\").env\n",
    "env.seed(42)\n",
    "agent = TrainingAgent(env=env,\n",
    "                      lr=0.0001,\n",
    "                      lr_min=0.0001,\n",
    "                      name=\"notebook_lr_low\",\n",
    "                      save=False)\n",
    "agent.compile()\n",
    "agent.fit()"
   ]
  },
  {
   "cell_type": "markdown",
   "metadata": {},
   "source": [
    "## High Epsilon"
   ]
  },
  {
   "cell_type": "code",
   "execution_count": null,
   "metadata": {},
   "outputs": [],
   "source": [
    "env = gym.make(\"Taxi-v3\").env\n",
    "env.seed(42)\n",
    "agent = TrainingAgent(env=env,\n",
    "                      eps_end=0.5,\n",
    "                      name=\"notebook_eps_high\",\n",
    "                      save=False)\n",
    "agent.compile()\n",
    "agent.fit()"
   ]
  },
  {
   "cell_type": "markdown",
   "metadata": {},
   "source": [
    "## Low Epsilon"
   ]
  },
  {
   "cell_type": "code",
   "execution_count": null,
   "metadata": {},
   "outputs": [],
   "source": [
    "env = gym.make(\"Taxi-v3\").env\n",
    "env.seed(42)\n",
    "agent = TrainingAgent(env=env,\n",
    "                      eps_end=0.01,\n",
    "                      name=\"notebook_eps_low\",\n",
    "                      save=False)\n",
    "agent.compile()\n",
    "agent.fit()"
   ]
  },
  {
   "cell_type": "markdown",
   "metadata": {},
   "source": [
    "## Update Rate High"
   ]
  },
  {
   "cell_type": "code",
   "execution_count": null,
   "metadata": {},
   "outputs": [],
   "source": [
    "env = gym.make(\"Taxi-v3\").env\n",
    "env.seed(42)\n",
    "agent = TrainingAgent(env=env,\n",
    "                      target_update=2,\n",
    "                      name=\"notebook_update_high\",\n",
    "                      save=False)\n",
    "agent.compile()\n",
    "agent.fit()"
   ]
  },
  {
   "cell_type": "markdown",
   "metadata": {},
   "source": [
    "## Update Rate Low"
   ]
  },
  {
   "cell_type": "code",
   "execution_count": null,
   "metadata": {},
   "outputs": [],
   "source": [
    "env = gym.make(\"Taxi-v3\").env\n",
    "env.seed(42)\n",
    "agent = TrainingAgent(env=env,\n",
    "                      target_update=200,\n",
    "                      name=\"notebook_update_low\",\n",
    "                      save=False)\n",
    "agent.compile()\n",
    "agent.fit()"
   ]
  },
  {
   "cell_type": "markdown",
   "metadata": {},
   "source": [
    "## Gamma Low"
   ]
  },
  {
   "cell_type": "code",
   "execution_count": null,
   "metadata": {},
   "outputs": [],
   "source": [
    "env = gym.make(\"Taxi-v3\").env\n",
    "env.seed(42)\n",
    "agent = TrainingAgent(env=env,\n",
    "                      gamma=0.2,\n",
    "                      name=\"notebook_gamma_low\",\n",
    "                      save=False)\n",
    "agent.compile()\n",
    "agent.fit()"
   ]
  },
  {
   "cell_type": "markdown",
   "metadata": {},
   "source": [
    "## Batch Size High"
   ]
  },
  {
   "cell_type": "code",
   "execution_count": null,
   "metadata": {},
   "outputs": [],
   "source": [
    "env = gym.make(\"Taxi-v3\").env\n",
    "env.seed(42)\n",
    "agent = TrainingAgent(env=env,\n",
    "                      batch_size=512,\n",
    "                      name=\"notebook_batch_high\",\n",
    "                      save=False)\n",
    "agent.compile()\n",
    "agent.fit()"
   ]
  },
  {
   "cell_type": "markdown",
   "metadata": {},
   "source": [
    "## Batch Size Low"
   ]
  },
  {
   "cell_type": "code",
   "execution_count": null,
   "metadata": {},
   "outputs": [],
   "source": [
    "env = gym.make(\"Taxi-v3\").env\n",
    "env.seed(42)\n",
    "agent = TrainingAgent(env=env,\n",
    "                      batch_size=32,\n",
    "                      name=\"notebook_batch_low\",\n",
    "                      save=False)\n",
    "agent.compile()\n",
    "agent.fit()"
   ]
  },
  {
   "cell_type": "markdown",
   "metadata": {},
   "source": [
    "## Reference Architecture 2"
   ]
  },
  {
   "cell_type": "code",
   "execution_count": null,
   "metadata": {},
   "outputs": [],
   "source": [
    "env = gym.make(\"Taxi-v3\").env\n",
    "env.seed(42)\n",
    "agent = TrainingAgent(env=env,\n",
    "                      architecture=2,\n",
    "                      name=\"notebook_reference_2\",\n",
    "                      save=False)\n",
    "agent.compile()\n",
    "agent.fit()"
   ]
  }
 ],
 "metadata": {
  "interpreter": {
   "hash": "d7d59895b33cab37f7272b37deeda094ab981b245916ecca7430ef46ae7341a6"
  },
  "kernelspec": {
   "display_name": "Python 3.9.10 ('venv': venv)",
   "language": "python",
   "name": "python3"
  },
  "language_info": {
   "codemirror_mode": {
    "name": "ipython",
    "version": 3
   },
   "file_extension": ".py",
   "mimetype": "text/x-python",
   "name": "python",
   "nbconvert_exporter": "python",
   "pygments_lexer": "ipython3",
   "version": "3.9.10"
  },
  "orig_nbformat": 4
 },
 "nbformat": 4,
 "nbformat_minor": 2
}
