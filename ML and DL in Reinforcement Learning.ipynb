{
 "cells": [
  {
   "cell_type": "markdown",
   "metadata": {},
   "source": [
    "# Machine Learning and Deep Learning in Reinforcement Learning"
   ]
  },
  {
   "cell_type": "markdown",
   "metadata": {},
   "source": [
    "You will find in this jupyter notebook a collection of graphs drawned during the training of our different approchaes to solving the Taxi Driver Game from openAI's gym. Each approach comes with the parameters used during training as well as the evolution of the exploration rate (*epsilon*), the reward and the number of steps for each episode done. \n",
    "\n",
    "For more informations on the *Deep Q Learning* approach you can read the *DQN.ipynb* notebook located in the *DQN/* folder."
   ]
  },
  {
   "cell_type": "markdown",
   "metadata": {},
   "source": [
    "## Machine Learning"
   ]
  },
  {
   "cell_type": "markdown",
   "metadata": {},
   "source": [
    "### Q-Learning"
   ]
  },
  {
   "cell_type": "markdown",
   "metadata": {},
   "source": [
    "Parameters:\n",
    "- *Number of episodes*: <code>25 000</code>,\n",
    "- *Learning Rate*: <code>0.01</code>,\n",
    "- *Gamma*: <code>0.99</code>,\n",
    "- *Starting Epsilon*: <code>1</code>,\n",
    "- *Ending Epsilon*: <code>0.001</code>,\n",
    "- *Epsilon Decay Per Episode*: <code>0.01</code>"
   ]
  },
  {
   "cell_type": "markdown",
   "metadata": {},
   "source": [
    "Training Graph:\n",
    "\n",
    "<img src=\"https://github.com/LuluLaGlue/Epitech_TaxiDriver/blob/main/Q-Learning/Q-Learning_graph.png\" />"
   ]
  },
  {
   "cell_type": "markdown",
   "metadata": {},
   "source": [
    "### SARSA"
   ]
  },
  {
   "cell_type": "markdown",
   "metadata": {},
   "source": [
    "Parameters:\n",
    "- *Episodes*: <code>10 000</code>,\n",
    "- *Alpha*: <code>0.85</code>,\n",
    "- *Gamma*: <code>0.99</code>,\n",
    "- *Starting Epsilon*: <code>1</code>,\n",
    "- *Ending Epsilon*: <code>0.001</code>,\n",
    "- *Epsilon Decay per Episode*: <code>0.01</code>"
   ]
  },
  {
   "cell_type": "markdown",
   "metadata": {},
   "source": [
    "Training graph:\n",
    "\n",
    "<img src=\"./SARSA/SARSA_graph.png\" />"
   ]
  },
  {
   "cell_type": "markdown",
   "metadata": {},
   "source": [
    "### Deep Q Learning\n",
    "#### First Architecture Best Parameters (Low Batch Size)"
   ]
  },
  {
   "cell_type": "markdown",
   "metadata": {},
   "source": [
    "Parameters:\n",
    "- *Episodes*:<code>10 000</code>,\n",
    "- *Batch Size*:<code>32</code>,\n",
    "- *Gamma*:<code>0.99</code>,\n",
    "- *Starting Epsilon*:<code>1</code>,\n",
    "- *Ending Epsilon*:<code>0.1</code>,\n",
    "- *Decay Factor Epsilon*:<code>400</code>,\n",
    "- *Number of episodes between model update*: <code>20</code>,\n",
    "- *Max number of steps per episodes*: <code>100</code>,\n",
    "- *Warmup Episodes*: <code>10</code>,\n",
    "- *Starting Learning Rate*: <code>0.001</code>,\n",
    "- *Ending Learning Rate*: <code>0.0001</code>,\n",
    "- *Decay Factor Learning Rate*: <code>5 000</code>,\n",
    "- *Memory Size*: <code>50 000</code>,"
   ]
  },
  {
   "cell_type": "markdown",
   "metadata": {},
   "source": [
    "Training graph:\n",
    "\n",
    "<img src=\"./DQN/models/batch_low/DQN_batch_low_graph.png\" />"
   ]
  },
  {
   "cell_type": "markdown",
   "metadata": {},
   "source": [
    "#### Second Architecture"
   ]
  },
  {
   "cell_type": "markdown",
   "metadata": {},
   "source": [
    "Parameters:\n",
    "- *Episodes*:<code>10 000</code>,\n",
    "- *Batch Size*:<code>128</code>,\n",
    "- *Gamma*:<code>0.99</code>,\n",
    "- *Starting Epsilon*:<code>1</code>,\n",
    "- *Ending Epsilon*:<code>0.1</code>,\n",
    "- *Decay Factor Epsilon*:<code>400</code>,\n",
    "- *Number of episodes between model update*: <code>20</code>,\n",
    "- *Max number of steps per episodes*: <code>100</code>,\n",
    "- *Warmup Episodes*: <code>10</code>,\n",
    "- *Starting Learning Rate*: <code>0.001</code>,\n",
    "- *Ending Learning Rate*: <code>0.0001</code>,\n",
    "- *Decay Factor Learning Rate*: <code>5 000</code>,\n",
    "- *Memory Size*: <code>50 000</code>,"
   ]
  },
  {
   "cell_type": "markdown",
   "metadata": {},
   "source": [
    "Training graph:\n",
    "\n",
    "<img src=\"./DQN/models/reference_2/DQN_reference_2_graph.png\" />"
   ]
  }
 ],
 "metadata": {
  "interpreter": {
   "hash": "d7d59895b33cab37f7272b37deeda094ab981b245916ecca7430ef46ae7341a6"
  },
  "kernelspec": {
   "display_name": "Python 3.9.10 ('venv': venv)",
   "language": "python",
   "name": "python3"
  },
  "language_info": {
   "name": "python",
   "version": "3.9.12"
  },
  "orig_nbformat": 4
 },
 "nbformat": 4,
 "nbformat_minor": 2
}
